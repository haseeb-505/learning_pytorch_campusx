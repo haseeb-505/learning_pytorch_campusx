{
  "nbformat": 4,
  "nbformat_minor": 0,
  "metadata": {
    "colab": {
      "provenance": [],
      "gpuType": "T4",
      "authorship_tag": "ABX9TyNZRZ6brlQM6ncyiI+HJeG8",
      "include_colab_link": true
    },
    "kernelspec": {
      "name": "python3",
      "display_name": "Python 3"
    },
    "language_info": {
      "name": "python"
    },
    "accelerator": "GPU"
  },
  "cells": [
    {
      "cell_type": "markdown",
      "metadata": {
        "id": "view-in-github",
        "colab_type": "text"
      },
      "source": [
        "<a href=\"https://colab.research.google.com/github/haseeb-505/learning_pytorch_campusx/blob/main/hyperparameter_tuning_optuna.ipynb\" target=\"_parent\"><img src=\"https://colab.research.google.com/assets/colab-badge.svg\" alt=\"Open In Colab\"/></a>"
      ]
    },
    {
      "cell_type": "code",
      "source": [
        "# !pip install optuna"
      ],
      "metadata": {
        "id": "PgwALjpYKlHf"
      },
      "execution_count": 15,
      "outputs": []
    },
    {
      "cell_type": "code",
      "execution_count": 16,
      "metadata": {
        "id": "-aZRNUcUAf6X"
      },
      "outputs": [],
      "source": [
        "import torch\n",
        "from sklearn.model_selection import train_test_split\n",
        "import pandas as pd\n",
        "import numpy as np\n",
        "from torch.utils.data import Dataset, DataLoader\n",
        "from torchvision import datasets\n",
        "from torchvision.transforms import ToTensor\n",
        "import torch.nn as nn\n",
        "import torch.optim as optim\n",
        "import optuna\n",
        "import matplotlib.pyplot as plt"
      ]
    },
    {
      "cell_type": "code",
      "source": [
        "# set random seed for reproducibility\n",
        "torch.manual_seed(42)"
      ],
      "metadata": {
        "colab": {
          "base_uri": "https://localhost:8080/"
        },
        "id": "wEm8WwrxAxmB",
        "outputId": "727929ea-e8f2-4584-b70d-4c6eff513d0a"
      },
      "execution_count": 17,
      "outputs": [
        {
          "output_type": "execute_result",
          "data": {
            "text/plain": [
              "<torch._C.Generator at 0x7b6990150910>"
            ]
          },
          "metadata": {},
          "execution_count": 17
        }
      ]
    },
    {
      "cell_type": "code",
      "source": [
        "# Check for GPU\n",
        "device = torch.device(\"cuda\" if torch.cuda.is_available() else \"cpu\")\n",
        "print(f'using device: {device}')"
      ],
      "metadata": {
        "colab": {
          "base_uri": "https://localhost:8080/"
        },
        "id": "BKyB9Cz7BZfR",
        "outputId": "fe64cf1a-a318-4218-ab09-806a3127196b"
      },
      "execution_count": 18,
      "outputs": [
        {
          "output_type": "stream",
          "name": "stdout",
          "text": [
            "using device: cuda\n"
          ]
        }
      ]
    },
    {
      "cell_type": "markdown",
      "source": [
        "## Data Loading"
      ],
      "metadata": {
        "id": "QVkCkBMQCAoV"
      }
    },
    {
      "cell_type": "code",
      "source": [
        "train_data = datasets.FashionMNIST(\n",
        "    root = 'data',\n",
        "    train = True,\n",
        "    download = True,\n",
        "    transform = ToTensor()\n",
        ")\n",
        "\n",
        "# test data loading\n",
        "test_data = datasets.FashionMNIST(\n",
        "    root = 'data',\n",
        "    train = False,\n",
        "    download = True,\n",
        "    transform = ToTensor()\n",
        ")"
      ],
      "metadata": {
        "id": "ZAb2xgV_Bq9Z"
      },
      "execution_count": 19,
      "outputs": []
    },
    {
      "cell_type": "code",
      "source": [
        "labels_map = {\n",
        "    0: \"T-Shirt\",\n",
        "    1: \"Trouser\",\n",
        "    2: \"Pullover\",\n",
        "    3: \"Dress\",\n",
        "    4: \"Coat\",\n",
        "    5: \"Sandal\",\n",
        "    6: \"Shirt\",\n",
        "    7: \"Sneaker\",\n",
        "    8: \"Bag\",\n",
        "    9: \"Ankle Boot\",\n",
        "}"
      ],
      "metadata": {
        "id": "fysAClRSCzlp"
      },
      "execution_count": 20,
      "outputs": []
    },
    {
      "cell_type": "markdown",
      "source": [
        "### plotting some images"
      ],
      "metadata": {
        "id": "1BLwWP7_C83T"
      }
    },
    {
      "cell_type": "code",
      "source": [
        "fig = plt.figure(figsize=(8, 8))\n",
        "cols, rows = 3, 3\n",
        "\n",
        "for i in range(1, cols * rows + 1):\n",
        "    sample_idx = torch.randint(len(train_data), size=(1,)).item()\n",
        "    img, label = train_data[sample_idx]\n",
        "    fig.add_subplot(rows, cols, i)\n",
        "    plt.imshow(img.squeeze(), cmap='gray')\n",
        "    plt.title(labels_map[label])\n",
        "    plt.axis('off')\n",
        "plt.show()"
      ],
      "metadata": {
        "colab": {
          "base_uri": "https://localhost:8080/",
          "height": 675
        },
        "id": "cKkEspbHC79I",
        "outputId": "e4941922-6570-49dd-e913-d2a09d7028d0"
      },
      "execution_count": 21,
      "outputs": [
        {
          "output_type": "display_data",
          "data": {
            "text/plain": [
              "<Figure size 800x800 with 9 Axes>"
            ],
            "image/png": "[encoded data removed]"
          },
          "metadata": {}
        }
      ]
    },
    {
      "cell_type": "code",
      "source": [
        "# data size\n",
        "print(f'train data size: {len(train_data)}')\n",
        "print(f'test data size: {len(test_data)}')"
      ],
      "metadata": {
        "colab": {
          "base_uri": "https://localhost:8080/"
        },
        "id": "O7BjhOzmDtR_",
        "outputId": "8e92f434-3eed-475c-f936-ada7b424cc4f"
      },
      "execution_count": 22,
      "outputs": [
        {
          "output_type": "stream",
          "name": "stdout",
          "text": [
            "train data size: 60000\n",
            "test data size: 10000\n"
          ]
        }
      ]
    },
    {
      "cell_type": "code",
      "source": [
        "# Get shape of the first sample\n",
        "print(type(train_data[0]))\n",
        "first_sample, first_label = train_data[0]  # Fetch first data point\n",
        "print(first_sample.shape)\n",
        "print((first_sample.flatten().shape)[0])"
      ],
      "metadata": {
        "colab": {
          "base_uri": "https://localhost:8080/"
        },
        "id": "WSgJ3ISAGwVy",
        "outputId": "6ad8b4e4-7847-494a-e18a-4985557b1b4b"
      },
      "execution_count": 23,
      "outputs": [
        {
          "output_type": "stream",
          "name": "stdout",
          "text": [
            "<class 'tuple'>\n",
            "torch.Size([1, 28, 28])\n",
            "784\n"
          ]
        }
      ]
    },
    {
      "cell_type": "code",
      "source": [],
      "metadata": {
        "id": "ZIjqsE97GwKV"
      },
      "execution_count": 23,
      "outputs": []
    },
    {
      "cell_type": "markdown",
      "source": [
        "### Model Design"
      ],
      "metadata": {
        "id": "FbVNIzQGOKnE"
      }
    },
    {
      "cell_type": "code",
      "source": [
        "# model design\n",
        "class MyNN(nn.Module):\n",
        "  def __init__(self, input_dim, output_dim, num_hidden_layers, neurons_per_layer,dropout_rate):\n",
        "    super().__init__()\n",
        "\n",
        "    layers = []\n",
        "    for i in range(num_hidden_layers):\n",
        "      layers.append(nn.Linear(input_dim, neurons_per_layer))\n",
        "      # batch normalization\n",
        "      layers.append(nn.BatchNorm1d(neurons_per_layer))\n",
        "      # activation function\n",
        "      layers.append(nn.ReLU())\n",
        "      # dropouts\n",
        "      layers.append(nn.Dropout(dropout_rate))\n",
        "      # update input dim for next iteration\n",
        "      input_dim = neurons_per_layer\n",
        "\n",
        "    layers.append(nn.Linear(input_dim, output_dim))\n",
        "    self.stack = nn.Sequential(*layers)\n",
        "\n",
        "  def forward(self, x):\n",
        "    return self.stack(x)"
      ],
      "metadata": {
        "id": "v9_nEE8NGapT"
      },
      "execution_count": 24,
      "outputs": []
    },
    {
      "cell_type": "markdown",
      "source": [
        "### Objective Function"
      ],
      "metadata": {
        "id": "1UumSnQ4Eu_m"
      }
    },
    {
      "cell_type": "code",
      "source": [
        "def objective(trial):\n",
        "\n",
        "  # extract hyperparameter values for next trial from the search sapce\n",
        "  num_hidden_layers = trial.suggest_int('num_hidden_layers', 1, 5)\n",
        "  neurons_per_layer = trial.suggest_int('neurons_per_layer', 8, 128, step=8)\n",
        "  learning_rate = trial.suggest_float('learning_rate', 1e-5, 1e-1, log=True)\n",
        "  epochs = trial.suggest_int('num_epochs', 10, 50)\n",
        "  dropout_rate = trial.suggest_float('dropout_rate', 0.1, 0.5, step=0.1)\n",
        "  batch_size = trial.suggest_categorical('batch_size', [16, 32, 64, 128])\n",
        "  optimizer_name = trial.suggest_categorical('optimizer', ['Adam', 'SGD', 'RMSprop'])\n",
        "  weight_decay = trial.suggest_float('weight_decay', 1e-5, 1e-1, log=True)\n",
        "\n",
        "  # dataloader\n",
        "  train_dataloader = DataLoader(train_data, batch_size=batch_size, shuffle=True, pin_memory=True)\n",
        "  test_dataloader = DataLoader(test_data, batch_size=batch_size, shuffle=True, pin_memory=True)\n",
        "\n",
        "  # model initialization\n",
        "  input_dim = (first_sample.flatten().shape)[0]\n",
        "  output_dim = 10\n",
        "\n",
        "  model = MyNN(input_dim, output_dim, num_hidden_layers, neurons_per_layer, dropout_rate)\n",
        "  model.to(device)\n",
        "\n",
        "\n",
        "\n",
        "  # loss function and optimizer selection\n",
        "  criterion = nn.CrossEntropyLoss()\n",
        "\n",
        "  if optimizer_name == 'Adam':\n",
        "    optimizer = optim.Adam(model.parameters(), lr=learning_rate, weight_decay=weight_decay)\n",
        "  elif optimizer_name == 'RMSprop':\n",
        "    optimizer = optim.RMSprop(model.parameters(), lr=learning_rate, weight_decay=weight_decay)\n",
        "  else:\n",
        "    optimizer = optim.SGD(model.parameters(), lr=learning_rate, weight_decay=weight_decay)\n",
        "\n",
        "\n",
        "  # training loop\n",
        "  for epoch in range(epochs):\n",
        "    for batch_idx, (data, target) in enumerate(train_dataloader):\n",
        "      data, target = data.to(device), target.to(device)\n",
        "      # reshaping data tensor to desired form\n",
        "      data = data.view(data.size(0), -1)\n",
        "      # setting optimizer gradient to zero to avoid the effect of the case where it can carry some previous value\n",
        "      optimizer.zero_grad()\n",
        "      # forward pass\n",
        "      output = model(data)\n",
        "      # loss fucntion\n",
        "      loss = criterion(output, target)\n",
        "      # backpropagation\n",
        "      loss.backward()\n",
        "      # optimizer step\n",
        "      optimizer.step()\n",
        "  # evaluation\n",
        "  model.eval()\n",
        "  test_loss = 0\n",
        "  test_correct = 0\n",
        "  accuracy_list = []\n",
        "\n",
        "  with torch.no_grad():\n",
        "    for data, target in test_dataloader:\n",
        "      data, target = data.to(device), target.to(device)\n",
        "      data = data.view(data.size(0), -1)\n",
        "      y_pred = model(data)\n",
        "      # Get the predicted class index for each sample\n",
        "      _, predicted_labels = torch.max(y_pred, 1)\n",
        "\n",
        "      # batch_accuracy compare predicted labels with actual labels\n",
        "      batch_accuracy = (predicted_labels == target).float().mean()\n",
        "      accuracy_list.append(batch_accuracy.item())\n",
        "\n",
        "  accuracy = torch.tensor(accuracy_list).mean()\n",
        "  print(f\"Accuracy: {accuracy}\")\n",
        "\n",
        "  return accuracy"
      ],
      "metadata": {
        "id": "2IkV2HixEyC1"
      },
      "execution_count": 25,
      "outputs": []
    },
    {
      "cell_type": "markdown",
      "source": [
        "### Study Creation"
      ],
      "metadata": {
        "id": "OqYE1HjuKebx"
      }
    },
    {
      "cell_type": "code",
      "source": [
        "study = optuna.create_study(direction='maximize')\n"
      ],
      "metadata": {
        "colab": {
          "base_uri": "https://localhost:8080/"
        },
        "id": "SClomlAmKd1o",
        "outputId": "1213242f-0a41-4452-b2f0-55a1f46f662e"
      },
      "execution_count": 26,
      "outputs": [
        {
          "output_type": "stream",
          "name": "stderr",
          "text": [
            "[I 2025-02-20 16:38:11,932] A new study created in memory with name: no-name-eebffe9f-9442-47f3-a85d-d4c1d5fe4046\n"
          ]
        }
      ]
    },
    {
      "cell_type": "code",
      "source": [
        "# run study\n",
        "study.optimize(objective, n_trials=10)"
      ],
      "metadata": {
        "colab": {
          "base_uri": "https://localhost:8080/"
        },
        "id": "GS4MBuFZK2HA",
        "outputId": "bd5195e6-b47d-481b-ec67-faada0e2ff1c"
      },
      "execution_count": 27,
      "outputs": [
        {
          "output_type": "stream",
          "name": "stderr",
          "text": [
            "[I 2025-02-20 16:41:01,278] Trial 0 finished with value: 0.8258504867553711 and parameters: {'num_hidden_layers': 3, 'neurons_per_layer': 40, 'learning_rate': 0.0004929943482455661, 'num_epochs': 26, 'dropout_rate': 0.5, 'batch_size': 128, 'optimizer': 'Adam', 'weight_decay': 0.004216243994558532}. Best is trial 0 with value: 0.8258504867553711.\n"
          ]
        },
        {
          "output_type": "stream",
          "name": "stdout",
          "text": [
            "Accuracy: 0.8258504867553711\n"
          ]
        },
        {
          "output_type": "stream",
          "name": "stderr",
          "text": [
            "[I 2025-02-20 16:44:50,491] Trial 1 finished with value: 0.8179000020027161 and parameters: {'num_hidden_layers': 1, 'neurons_per_layer': 48, 'learning_rate': 0.0025386482434245064, 'num_epochs': 19, 'dropout_rate': 0.30000000000000004, 'batch_size': 16, 'optimizer': 'Adam', 'weight_decay': 0.002776586391718291}. Best is trial 0 with value: 0.8258504867553711.\n"
          ]
        },
        {
          "output_type": "stream",
          "name": "stdout",
          "text": [
            "Accuracy: 0.8179000020027161\n"
          ]
        },
        {
          "output_type": "stream",
          "name": "stderr",
          "text": [
            "[I 2025-02-20 16:49:48,524] Trial 2 finished with value: 0.8716054558753967 and parameters: {'num_hidden_layers': 4, 'neurons_per_layer': 72, 'learning_rate': 0.0026187881342771093, 'num_epochs': 27, 'dropout_rate': 0.1, 'batch_size': 32, 'optimizer': 'Adam', 'weight_decay': 5.877780242065413e-05}. Best is trial 2 with value: 0.8716054558753967.\n"
          ]
        },
        {
          "output_type": "stream",
          "name": "stdout",
          "text": [
            "Accuracy: 0.8716054558753967\n"
          ]
        },
        {
          "output_type": "stream",
          "name": "stderr",
          "text": [
            "[I 2025-02-20 16:54:16,642] Trial 3 finished with value: 0.8573971390724182 and parameters: {'num_hidden_layers': 1, 'neurons_per_layer': 120, 'learning_rate': 0.0016616461725056317, 'num_epochs': 45, 'dropout_rate': 0.1, 'batch_size': 128, 'optimizer': 'SGD', 'weight_decay': 0.005307460305857368}. Best is trial 2 with value: 0.8716054558753967.\n"
          ]
        },
        {
          "output_type": "stream",
          "name": "stdout",
          "text": [
            "Accuracy: 0.8573971390724182\n"
          ]
        },
        {
          "output_type": "stream",
          "name": "stderr",
          "text": [
            "[I 2025-02-20 17:00:29,787] Trial 4 finished with value: 0.8721046447753906 and parameters: {'num_hidden_layers': 2, 'neurons_per_layer': 72, 'learning_rate': 7.407353172010746e-05, 'num_epochs': 40, 'dropout_rate': 0.4, 'batch_size': 32, 'optimizer': 'RMSprop', 'weight_decay': 0.0046762232213512864}. Best is trial 4 with value: 0.8721046447753906.\n"
          ]
        },
        {
          "output_type": "stream",
          "name": "stdout",
          "text": [
            "Accuracy: 0.8721046447753906\n"
          ]
        },
        {
          "output_type": "stream",
          "name": "stderr",
          "text": [
            "[I 2025-02-20 17:04:21,533] Trial 5 finished with value: 0.8229832053184509 and parameters: {'num_hidden_layers': 4, 'neurons_per_layer': 48, 'learning_rate': 0.03099914164344884, 'num_epochs': 21, 'dropout_rate': 0.1, 'batch_size': 32, 'optimizer': 'Adam', 'weight_decay': 1.779575673961704e-05}. Best is trial 4 with value: 0.8721046447753906.\n"
          ]
        },
        {
          "output_type": "stream",
          "name": "stdout",
          "text": [
            "Accuracy: 0.8229832053184509\n"
          ]
        },
        {
          "output_type": "stream",
          "name": "stderr",
          "text": [
            "[I 2025-02-20 17:06:06,550] Trial 6 finished with value: 0.2873402535915375 and parameters: {'num_hidden_layers': 4, 'neurons_per_layer': 8, 'learning_rate': 0.017173822966171256, 'num_epochs': 10, 'dropout_rate': 0.5, 'batch_size': 32, 'optimizer': 'SGD', 'weight_decay': 0.00016206952767614132}. Best is trial 4 with value: 0.8721046447753906.\n"
          ]
        },
        {
          "output_type": "stream",
          "name": "stdout",
          "text": [
            "Accuracy: 0.2873402535915375\n"
          ]
        },
        {
          "output_type": "stream",
          "name": "stderr",
          "text": [
            "[I 2025-02-20 17:15:03,298] Trial 7 finished with value: 0.10000000149011612 and parameters: {'num_hidden_layers': 5, 'neurons_per_layer': 24, 'learning_rate': 0.07375046176835517, 'num_epochs': 30, 'dropout_rate': 0.5, 'batch_size': 16, 'optimizer': 'RMSprop', 'weight_decay': 0.00016231689174294776}. Best is trial 4 with value: 0.8721046447753906.\n"
          ]
        },
        {
          "output_type": "stream",
          "name": "stdout",
          "text": [
            "Accuracy: 0.10000000149011612\n"
          ]
        },
        {
          "output_type": "stream",
          "name": "stderr",
          "text": [
            "[I 2025-02-20 17:28:10,716] Trial 8 finished with value: 0.8335000276565552 and parameters: {'num_hidden_layers': 5, 'neurons_per_layer': 48, 'learning_rate': 1.1631687066259178e-05, 'num_epochs': 44, 'dropout_rate': 0.30000000000000004, 'batch_size': 16, 'optimizer': 'RMSprop', 'weight_decay': 0.0011225622307083573}. Best is trial 4 with value: 0.8721046447753906.\n"
          ]
        },
        {
          "output_type": "stream",
          "name": "stdout",
          "text": [
            "Accuracy: 0.8335000276565552\n"
          ]
        },
        {
          "output_type": "stream",
          "name": "stderr",
          "text": [
            "[I 2025-02-20 17:34:32,074] Trial 9 finished with value: 0.7541933059692383 and parameters: {'num_hidden_layers': 1, 'neurons_per_layer': 40, 'learning_rate': 0.01878947744115922, 'num_epochs': 45, 'dropout_rate': 0.1, 'batch_size': 32, 'optimizer': 'RMSprop', 'weight_decay': 0.0003031946453898811}. Best is trial 4 with value: 0.8721046447753906.\n"
          ]
        },
        {
          "output_type": "stream",
          "name": "stdout",
          "text": [
            "Accuracy: 0.7541933059692383\n"
          ]
        }
      ]
    },
    {
      "cell_type": "code",
      "source": [
        "study.best_value"
      ],
      "metadata": {
        "colab": {
          "base_uri": "https://localhost:8080/"
        },
        "id": "4CsoO7m1K4tk",
        "outputId": "d21cdab1-61d4-4919-ada4-fa3d6702f364"
      },
      "execution_count": 28,
      "outputs": [
        {
          "output_type": "execute_result",
          "data": {
            "text/plain": [
              "0.8721046447753906"
            ]
          },
          "metadata": {},
          "execution_count": 28
        }
      ]
    },
    {
      "cell_type": "code",
      "source": [
        "study.best_params"
      ],
      "metadata": {
        "colab": {
          "base_uri": "https://localhost:8080/"
        },
        "id": "mZyZ4O9_bhK5",
        "outputId": "14d68842-927e-4d20-bcdc-f512122b1bad"
      },
      "execution_count": 29,
      "outputs": [
        {
          "output_type": "execute_result",
          "data": {
            "text/plain": [
              "{'num_hidden_layers': 2,\n",
              " 'neurons_per_layer': 72,\n",
              " 'learning_rate': 7.407353172010746e-05,\n",
              " 'num_epochs': 40,\n",
              " 'dropout_rate': 0.4,\n",
              " 'batch_size': 32,\n",
              " 'optimizer': 'RMSprop',\n",
              " 'weight_decay': 0.0046762232213512864}"
            ]
          },
          "metadata": {},
          "execution_count": 29
        }
      ]
    },
    {
      "cell_type": "code",
      "source": [],
      "metadata": {
        "id": "emf-TzCXbjdc"
      },
      "execution_count": null,
      "outputs": []
    }
  ]
}